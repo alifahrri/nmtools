{
 "cells": [
  {
   "cell_type": "markdown",
   "metadata": {},
   "source": [
    "## `nmtools` Examples\n",
    "\n",
    "This notebook shows you various array manipulation functions within `nmtools`, such as:\n",
    "- [broadcasting](#Broadcasting)\n",
    "- [transpose](#Transposing-an-Array)\n",
    "- [reshape](#Reshaping-an-Array)\n",
    "- [flattening](#Flattening-an-Array)\n",
    "- [tiling](#Tiling-an-Array)\n",
    "- [squeeze and unsqueeze](#Squeeze-and-Expand-Dims)\n",
    "\n",
    "Most of the functions are similar to corresponding numpy functions. For numpy users, these functions should seems familiar and intuitive.\n",
    "\n",
    "This notebook uses `xeus-cling` kernel to be able to use C++17 on notebook. For more info about `xeus-cling` please refer to https://github.com/jupyter-xeus/xeus-cling.\n",
    "\n",
    "`nmtools` is an header-only library, to use it you only need to include necessary header. To add include path in `xeus-cling` simply add `pragma` for `cling`, for example:\n",
    "```C++\n",
    "#pragma cling add_include_path(\"/workspace/include\")\n",
    "```"
   ]
  },
  {
   "cell_type": "code",
   "execution_count": 1,
   "metadata": {},
   "outputs": [],
   "source": [
    "#pragma cling add_include_path(\"/workspace/include\")"
   ]
  },
  {
   "cell_type": "code",
   "execution_count": 2,
   "metadata": {},
   "outputs": [
    {
     "name": "stderr",
     "output_type": "stream",
     "text": [
      "In file included from input_line_8:1:\n",
      "In file included from /workspace/include/nmtools/nmtools.hpp:4:\n",
      "\u001b[1m/workspace/include/nmtools/constants.hpp:168:20: \u001b[0m\u001b[0;1;35mwarning: \u001b[0m\u001b[1mstring literal operator templates are a GNU extension [-Wgnu-string-literal-operator-template]\u001b[0m\n",
      "    constexpr auto operator \"\"_ct()\n",
      "\u001b[0;1;32m                   ^\n",
      "\u001b[0m"
     ]
    }
   ],
   "source": [
    "#include \"nmtools/nmtools.hpp\"\n",
    "\n",
    "#include <iostream>\n",
    "#include <array>\n",
    "#include <vector>"
   ]
  },
  {
   "cell_type": "code",
   "execution_count": 3,
   "metadata": {},
   "outputs": [],
   "source": [
    "#define DESC(x) std::cout << x << std::endl;\n",
    "#define PRINT(x) \\\n",
    "std::cout << #x << \":\\n\" \\\n",
    "    << nm::utils::to_string(x) \\\n",
    "    << std::endl;\n",
    "\n",
    "namespace nm = nmtools;\n",
    "namespace na = nm::array;\n",
    "namespace view = nm::view;"
   ]
  },
  {
   "cell_type": "markdown",
   "metadata": {},
   "source": [
    "### Broadcasting\n",
    "\n",
    "nmtools has broadcating rules similar to numpy. A non-owning, non-copy, \"view\" can also be created. Any changes on the source array reflected to the \"view\" object.\n",
    "\n",
    "Some of broadcasting functions are:\n",
    "- `broadcast_to`\n",
    "- `broadcast_arrays`"
   ]
  },
  {
   "cell_type": "markdown",
   "metadata": {},
   "source": [
    "#### broadcast_to"
   ]
  },
  {
   "cell_type": "markdown",
   "metadata": {},
   "source": [
    "Broadcast single array to a given shape."
   ]
  },
  {
   "cell_type": "code",
   "execution_count": 4,
   "metadata": {},
   "outputs": [],
   "source": [
    "auto shape = std::array{3,2,3};"
   ]
  },
  {
   "cell_type": "code",
   "execution_count": 5,
   "metadata": {},
   "outputs": [
    {
     "name": "stdout",
     "output_type": "stream",
     "text": [
      "broadcasting an std::array\n",
      "array:\n",
      "[\t1,\t2,\t3]\n",
      "broadcasted:\n",
      "[[[\t1,\t2,\t3],\n",
      "[\t1,\t2,\t3]],\n",
      "\n",
      "[[\t1,\t2,\t3],\n",
      "[\t1,\t2,\t3]],\n",
      "\n",
      "[[\t1,\t2,\t3],\n",
      "[\t1,\t2,\t3]]]\n",
      "nm::shape(array):\n",
      "[\t3]\n",
      "nm::shape(broadcasted):\n",
      "[\t3,\t2,\t3]\n",
      "array:\n",
      "[\t1,\t10,\t3]\n",
      "broadcasted:\n",
      "[[[\t1,\t10,\t3],\n",
      "[\t1,\t10,\t3]],\n",
      "\n",
      "[[\t1,\t10,\t3],\n",
      "[\t1,\t10,\t3]],\n",
      "\n",
      "[[\t1,\t10,\t3],\n",
      "[\t1,\t10,\t3]]]\n"
     ]
    }
   ],
   "source": [
    "DESC(\"broadcasting an std::array\")\n",
    "{\n",
    "    auto array = std::array{1,2,3};\n",
    "    // non-owning non-copy \"broadcast\" view to array given shape\n",
    "    auto broadcasted = view::broadcast_to(array,shape);\n",
    "    PRINT(array)\n",
    "    PRINT(broadcasted)\n",
    "    PRINT(nm::shape(array))\n",
    "    PRINT(nm::shape(broadcasted))\n",
    "    // modify array\n",
    "    array[1] = 10;\n",
    "    PRINT(array)\n",
    "    // changes reflected to broadcasted\n",
    "    PRINT(broadcasted)\n",
    "}"
   ]
  },
  {
   "cell_type": "markdown",
   "metadata": {},
   "source": [
    "#### Broadcast Arrays"
   ]
  },
  {
   "cell_type": "markdown",
   "metadata": {},
   "source": [
    "Broadcast multiple arrays together according to numpy broadcasting rules."
   ]
  },
  {
   "cell_type": "code",
   "execution_count": 6,
   "metadata": {},
   "outputs": [
    {
     "name": "stdout",
     "output_type": "stream",
     "text": [
      "broadcasting arrays\n",
      "array1:\n",
      "[\t1,\t2,\t3]\n",
      "array2:\n",
      "[[[\t4]],\n",
      "\n",
      "[[\t5]]]\n",
      "array3:\n",
      "[[\t6,\t7,\t8],\n",
      "[\t9,\t10,\t11]]\n",
      "b1:\n",
      "[[[\t1,\t2,\t3],\n",
      "[\t1,\t2,\t3]],\n",
      "\n",
      "[[\t1,\t2,\t3],\n",
      "[\t1,\t2,\t3]]]\n",
      "b2:\n",
      "[[[\t4,\t4,\t4],\n",
      "[\t4,\t4,\t4]],\n",
      "\n",
      "[[\t5,\t5,\t5],\n",
      "[\t5,\t5,\t5]]]\n",
      "b3:\n",
      "[[[\t6,\t7,\t8],\n",
      "[\t9,\t10,\t11]],\n",
      "\n",
      "[[\t6,\t7,\t8],\n",
      "[\t9,\t10,\t11]]]\n",
      "nm::shape(b1):\n",
      "(2,\t2,\t3)\n",
      "nm::shape(b2):\n",
      "(2,\t2,\t3)\n",
      "nm::shape(b3):\n",
      "(2,\t2,\t3)\n"
     ]
    }
   ],
   "source": [
    "DESC(\"broadcasting arrays\")\n",
    "{\n",
    "    auto array1 = std::array{1,2,3};\n",
    "    int array2[2][1][1] = {\n",
    "        {{4}},\n",
    "        {{5}},\n",
    "    };\n",
    "    auto array3 = na::fixed_ndarray{{\n",
    "        { 6,7, 8},\n",
    "        {9,10,11},\n",
    "    }};\n",
    "    // non-owning non-copy \"broadcast\" view to array given shape\n",
    "    auto [b1, b2, b3] = nm::unwrap(view::broadcast_arrays(array1,array2,array3));\n",
    "    PRINT(array1)\n",
    "    PRINT(array2)\n",
    "    PRINT(array3)\n",
    "    PRINT(b1)\n",
    "    PRINT(b2)\n",
    "    PRINT(b3)\n",
    "    PRINT(nm::shape(b1))\n",
    "    PRINT(nm::shape(b2))\n",
    "    PRINT(nm::shape(b3))\n",
    "}"
   ]
  },
  {
   "cell_type": "code",
   "execution_count": 7,
   "metadata": {},
   "outputs": [
    {
     "name": "stdout",
     "output_type": "stream",
     "text": [
      "broadcasting an std::vector\n",
      "array:\n",
      "[\t1,\t2,\t3]\n",
      "broadcasted:\n",
      "[[[\t1,\t2,\t3],\n",
      "[\t1,\t2,\t3]],\n",
      "\n",
      "[[\t1,\t2,\t3],\n",
      "[\t1,\t2,\t3]],\n",
      "\n",
      "[[\t1,\t2,\t3],\n",
      "[\t1,\t2,\t3]]]\n"
     ]
    }
   ],
   "source": [
    "DESC(\"broadcasting an std::vector\")\n",
    "{\n",
    "    auto array = std::vector{1,2,3};\n",
    "    auto broadcasted = view::broadcast_to(array,shape);\n",
    "    PRINT(array)\n",
    "    PRINT(broadcasted)\n",
    "}"
   ]
  },
  {
   "cell_type": "code",
   "execution_count": 8,
   "metadata": {},
   "outputs": [
    {
     "name": "stdout",
     "output_type": "stream",
     "text": [
      "\n",
      "broadcasting an na::fixed_ndarray\n",
      "array:\n",
      "[\t1,\t2,\t3]\n",
      "broadcasted:\n",
      "[[[\t1,\t2,\t3],\n",
      "[\t1,\t2,\t3]],\n",
      "\n",
      "[[\t1,\t2,\t3],\n",
      "[\t1,\t2,\t3]],\n",
      "\n",
      "[[\t1,\t2,\t3],\n",
      "[\t1,\t2,\t3]]]\n"
     ]
    }
   ],
   "source": [
    "DESC(\"\\nbroadcasting an na::fixed_ndarray\")\n",
    "{\n",
    "    auto array = na::fixed_ndarray{{1,2,3}};\n",
    "    auto broadcasted = view::broadcast_to(array,shape);\n",
    "    PRINT(array)\n",
    "    PRINT(broadcasted)\n",
    "}"
   ]
  },
  {
   "cell_type": "markdown",
   "metadata": {},
   "source": [
    "### Transposing an Array"
   ]
  },
  {
   "cell_type": "markdown",
   "metadata": {},
   "source": [
    "Transpose an array given axes. Axes can be `nmtools::None`, which is a special constant. When axes is `None` reverse the order of axis."
   ]
  },
  {
   "cell_type": "code",
   "execution_count": 9,
   "metadata": {},
   "outputs": [],
   "source": [
    "auto axes = std::array{2,0,1};"
   ]
  },
  {
   "cell_type": "code",
   "execution_count": 10,
   "metadata": {},
   "outputs": [
    {
     "name": "stdout",
     "output_type": "stream",
     "text": [
      "\n",
      "transposing an na::fixed_ndarray\n",
      "array:\n",
      "[[[\t1,\t2,\t3],\n",
      "[\t3,\t4,\t5]],\n",
      "\n",
      "[[\t5,\t6,\t7],\n",
      "[\t7,\t8,\t9]]]\n",
      "transposed:\n",
      "[[[\t1,\t3],\n",
      "[\t5,\t7]],\n",
      "\n",
      "[[\t2,\t4],\n",
      "[\t6,\t8]],\n",
      "\n",
      "[[\t3,\t5],\n",
      "[\t7,\t9]]]\n",
      "nm::shape(array):\n",
      "[\t2,\t2,\t3]\n",
      "nm::shape(transposed):\n",
      "[\t3,\t2,\t2]\n"
     ]
    }
   ],
   "source": [
    "DESC(\"\\ntransposing an na::fixed_ndarray\")\n",
    "{\n",
    "    auto array = na::fixed_ndarray{{\n",
    "        {\n",
    "            {1,2,3},\n",
    "            {3,4,5}\n",
    "        },\n",
    "        {\n",
    "            {5,6,7},\n",
    "            {7,8,9}\n",
    "        },\n",
    "    }};\n",
    "    auto transposed = view::transpose(array,axes);\n",
    "    PRINT(array)\n",
    "    PRINT(transposed)\n",
    "    PRINT(nm::shape(array))\n",
    "    PRINT(nm::shape(transposed))\n",
    "}"
   ]
  },
  {
   "cell_type": "markdown",
   "metadata": {},
   "source": [
    "example using `None`:"
   ]
  },
  {
   "cell_type": "code",
   "execution_count": 11,
   "metadata": {},
   "outputs": [
    {
     "name": "stdout",
     "output_type": "stream",
     "text": [
      "\n",
      "transposing a raw array\n",
      "array:\n",
      "[[[\t1,\t2,\t3],\n",
      "[\t3,\t4,\t5]],\n",
      "\n",
      "[[\t5,\t6,\t7],\n",
      "[\t7,\t8,\t9]]]\n",
      "transposed:\n",
      "[[[\t1,\t5],\n",
      "[\t3,\t7]],\n",
      "\n",
      "[[\t2,\t6],\n",
      "[\t4,\t8]],\n",
      "\n",
      "[[\t3,\t7],\n",
      "[\t5,\t9]]]\n",
      "nm::shape(array):\n",
      "[\t2,\t2,\t3]\n",
      "nm::shape(transposed):\n",
      "(3,\t2,\t2)\n"
     ]
    }
   ],
   "source": [
    "DESC(\"\\ntransposing a raw array\")\n",
    "{\n",
    "    int array[2][2][3] = {\n",
    "        {\n",
    "            {1,2,3},\n",
    "            {3,4,5}\n",
    "        },\n",
    "        {\n",
    "            {5,6,7},\n",
    "            {7,8,9}\n",
    "        },\n",
    "    };\n",
    "    auto transposed = view::transpose(array,nm::None);\n",
    "    PRINT(array)\n",
    "    PRINT(transposed)\n",
    "    PRINT(nm::shape(array))\n",
    "    PRINT(nm::shape(transposed))\n",
    "}"
   ]
  },
  {
   "cell_type": "markdown",
   "metadata": {},
   "source": [
    "### Reshaping an Array"
   ]
  },
  {
   "cell_type": "code",
   "execution_count": 12,
   "metadata": {},
   "outputs": [],
   "source": [
    "auto newshape = std::array{3,2,2};"
   ]
  },
  {
   "cell_type": "code",
   "execution_count": 13,
   "metadata": {
    "scrolled": true
   },
   "outputs": [
    {
     "name": "stdout",
     "output_type": "stream",
     "text": [
      "\n",
      "reshaping an std::array\n",
      "array:\n",
      "[\t1,\t2,\t3,\t4,\t5,\t6,\t7,\t8,\t9,\t10,\t11,\t12]\n",
      "reshaped:\n",
      "[[[\t1,\t2],\n",
      "[\t3,\t4]],\n",
      "\n",
      "[[\t5,\t6],\n",
      "[\t7,\t8]],\n",
      "\n",
      "[[\t9,\t10],\n",
      "[\t11,\t12]]]\n",
      "nm::shape(array):\n",
      "[\t12]\n",
      "nm::shape(reshaped):\n",
      "[\t3,\t2,\t2]\n"
     ]
    }
   ],
   "source": [
    "DESC(\"\\nreshaping an std::array\")\n",
    "{\n",
    "    auto array = std::array{1,2,3,4,5,6,7,8,9,10,11,12};\n",
    "    auto reshaped = view::reshape(array,newshape);\n",
    "    PRINT(array)\n",
    "    PRINT(reshaped)\n",
    "    PRINT(nm::shape(array))\n",
    "    PRINT(nm::shape(reshaped))\n",
    "}"
   ]
  },
  {
   "cell_type": "markdown",
   "metadata": {},
   "source": [
    "### Flattening an Array"
   ]
  },
  {
   "cell_type": "code",
   "execution_count": 14,
   "metadata": {
    "scrolled": true
   },
   "outputs": [
    {
     "name": "stdout",
     "output_type": "stream",
     "text": [
      "\n",
      " flattening an std::array\n",
      "array:\n",
      "[[\t1,\t2],\n",
      "[\t3,\t4]]\n",
      "flattened:\n",
      "[\t1,\t2,\t3,\t4]\n",
      "nm::shape(array):\n",
      "[\t2,\t2]\n",
      "nm::shape(flattened):\n",
      "(4)\n"
     ]
    }
   ],
   "source": [
    "DESC(\"\\n flattening an std::array\")\n",
    "{\n",
    "    using array_t = std::array<std::array<int,2>,2>;\n",
    "    array_t array = {{{1,2},{3,4}}};\n",
    "    auto flattened = view::flatten(array);\n",
    "    PRINT(array)\n",
    "    PRINT(flattened)\n",
    "    PRINT(nm::shape(array))\n",
    "    PRINT(nm::shape(flattened))\n",
    "}"
   ]
  },
  {
   "cell_type": "markdown",
   "metadata": {},
   "source": [
    "### Repeating an Array"
   ]
  },
  {
   "cell_type": "code",
   "execution_count": 15,
   "metadata": {},
   "outputs": [],
   "source": [
    "auto repeats = std::array{1,2};\n",
    "int axis = 1;"
   ]
  },
  {
   "cell_type": "code",
   "execution_count": 16,
   "metadata": {},
   "outputs": [
    {
     "name": "stdout",
     "output_type": "stream",
     "text": [
      "\n",
      " repeating an std::array\n",
      "array:\n",
      "[[\t1,\t2],\n",
      "[\t3,\t4]]\n",
      "repeated:\n",
      "[[\t1,\t2,\t2],\n",
      "[\t3,\t4,\t4]]\n",
      "nm::shape(array):\n",
      "[\t2,\t2]\n",
      "nm::shape(repeated):\n",
      "[\t2,\t3]\n"
     ]
    }
   ],
   "source": [
    "DESC(\"\\n repeating an std::array\")\n",
    "{\n",
    "    using array_t = std::array<std::array<int,2>,2>;\n",
    "    array_t array = {{{1,2},{3,4}}};\n",
    "    auto repeated = view::repeat(array,repeats,axis);\n",
    "    PRINT(array)\n",
    "    PRINT(repeated)\n",
    "    PRINT(nm::shape(array))\n",
    "    PRINT(nm::shape(repeated))\n",
    "}"
   ]
  },
  {
   "cell_type": "markdown",
   "metadata": {},
   "source": [
    "### Tiling an Array"
   ]
  },
  {
   "cell_type": "code",
   "execution_count": 17,
   "metadata": {},
   "outputs": [],
   "source": [
    "auto reps = std::tuple{2,1,2};"
   ]
  },
  {
   "cell_type": "code",
   "execution_count": 18,
   "metadata": {},
   "outputs": [
    {
     "name": "stdout",
     "output_type": "stream",
     "text": [
      "\n",
      " tiling an std::array\n",
      "array:\n",
      "[\t0,\t1,\t2]\n",
      "tiled:\n",
      "[[[\t0,\t1,\t2,\t0,\t1,\t2]],\n",
      "\n",
      "[[\t0,\t1,\t2,\t0,\t1,\t2]]]\n",
      "nm::shape(array):\n",
      "[\t3]\n",
      "nm::shape(tiled):\n",
      "[\t2,\t1,\t6]\n"
     ]
    }
   ],
   "source": [
    "DESC(\"\\n tiling an std::array\")\n",
    "{\n",
    "    auto array = std::array{0,1,2};\n",
    "    auto tiled = view::tile(array,reps);\n",
    "    PRINT(array)\n",
    "    PRINT(tiled)\n",
    "    PRINT(nm::shape(array))\n",
    "    PRINT(nm::shape(tiled))\n",
    "}"
   ]
  },
  {
   "cell_type": "markdown",
   "metadata": {},
   "source": [
    "### Squeeze and Expand Dims"
   ]
  },
  {
   "cell_type": "code",
   "execution_count": 19,
   "metadata": {},
   "outputs": [
    {
     "name": "stdout",
     "output_type": "stream",
     "text": [
      "\n",
      "squeezing an std::array\n",
      "array:\n",
      "[[\t1],\n",
      "[\t2],\n",
      "[\t3]]\n",
      "squeezed:\n",
      "[\t1,\t2,\t3]\n",
      "nm::shape(array):\n",
      "[\t3,\t1]\n",
      "nm::shape(squeezed):\n",
      "(3)\n"
     ]
    }
   ],
   "source": [
    "DESC(\"\\nsqueezing an std::array\")\n",
    "{\n",
    "    using array_t = std::array<std::array<int,1>,3>;\n",
    "    array_t array = {1,2,3};\n",
    "    auto squeezed = view::squeeze(array);\n",
    "    PRINT(array)\n",
    "    PRINT(squeezed)\n",
    "    PRINT(nm::shape(array))\n",
    "    PRINT(nm::shape(squeezed))\n",
    "}"
   ]
  },
  {
   "cell_type": "code",
   "execution_count": 20,
   "metadata": {},
   "outputs": [
    {
     "name": "stdout",
     "output_type": "stream",
     "text": [
      "\n",
      "expanding an std::array\n",
      "array:\n",
      "[\t1,\t2,\t3]\n",
      "expanded:\n",
      "[[[\t1],\n",
      "[\t2],\n",
      "[\t3]]]\n",
      "nm::shape(array):\n",
      "[\t3]\n",
      "nm::shape(expanded):\n",
      "[\t1,\t3,\t1]\n"
     ]
    }
   ],
   "source": [
    "DESC(\"\\nexpanding an std::array\")\n",
    "{\n",
    "    auto axis = std::array{0,2};\n",
    "    auto array = std::array{1,2,3};\n",
    "    auto expanded = view::expand_dims(array,axis);\n",
    "    PRINT(array)\n",
    "    PRINT(expanded)\n",
    "    PRINT(nm::shape(array))\n",
    "    PRINT(nm::shape(expanded))\n",
    "}"
   ]
  }
 ],
 "metadata": {
  "kernelspec": {
   "display_name": "C++17",
   "language": "C++17",
   "name": "xcpp17"
  },
  "language_info": {
   "codemirror_mode": "text/x-c++src",
   "file_extension": ".cpp",
   "mimetype": "text/x-c++src",
   "name": "c++",
   "version": "17"
  }
 },
 "nbformat": 4,
 "nbformat_minor": 4
}
