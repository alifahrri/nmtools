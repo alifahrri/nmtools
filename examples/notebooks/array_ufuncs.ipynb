{
 "cells": [
  {
   "cell_type": "markdown",
   "id": "10c724d4",
   "metadata": {},
   "source": [
    "# `nmtools ufunc` Examples\n",
    "\n",
    "This notebook shows you various built-in ufuncs in nmtools and several custom ufuncs.\n",
    "The term \"ufunc\" is short for \"universal function\" from numpy's [ufunc](https://numpy.org/doc/stable/reference/ufuncs.html).\n",
    "nmtools' ufunc is directly inspired from that numpy's ufunc, contains several generic operations:\n",
    "- the ufunc: arbitrary arity functions with broadcasting.\n",
    "- reduce ufunc: reducing the array dimension by applying function along the given axis (or axes).\n",
    "- outer ufunc: apply the function to each pair consists of elements of A and B.\n",
    "- accumulate ufunc: accumulate the result from given operation along an axis.\n",
    "\n",
    "Unlike numpy, nmtools doesn't provide the following ufunc:\n",
    "- reduceat\n",
    "- at\n",
    "- generalized ufunc\n",
    "\n",
    "Most of numpy's ufuncs are also available in nmtools.\n",
    "\n",
    "To use this notebook, you must install xeus-cling cpp jupyter kernel to be able to use C++17 on notebook. For more info about xeus-cling please refer to https://github.com/jupyter-xeus/xeus-cling."
   ]
  },
  {
   "cell_type": "markdown",
   "id": "7fbba050",
   "metadata": {},
   "source": [
    "nmtools is a header-only library, no library to link to, you only need to provide include path, such as the following:"
   ]
  },
  {
   "cell_type": "code",
   "execution_count": 1,
   "id": "9b0b9f63",
   "metadata": {},
   "outputs": [],
   "source": [
    "#pragma cling add_include_path(\"/workspace/include\")"
   ]
  },
  {
   "cell_type": "markdown",
   "id": "4054b384",
   "metadata": {},
   "source": [
    "Here we include all necessary nmtools header and to reduce verbosity, declare namespace alias and some using-directives.\n",
    "\n",
    "Note that `None`, `True`, `False` are nmtools constants. The statement `using namespace nm::literals` is to enable nmtools UDL (`_ct`)."
   ]
  },
  {
   "cell_type": "code",
   "execution_count": 2,
   "id": "3fb46dd9",
   "metadata": {},
   "outputs": [
    {
     "name": "stderr",
     "output_type": "stream",
     "text": [
      "In file included from input_line_8:1:\n",
      "In file included from /workspace/include/nmtools/nmtools.hpp:4:\n",
      "\u001b[1m/workspace/include/nmtools/constants.hpp:168:20: \u001b[0m\u001b[0;1;35mwarning: \u001b[0m\u001b[1mstring literal operator templates are a GNU extension [-Wgnu-string-literal-operator-template]\u001b[0m\n",
      "    constexpr auto operator \"\"_ct()\n",
      "\u001b[0;1;32m                   ^\n",
      "\u001b[0m"
     ]
    }
   ],
   "source": [
    "#include \"nmtools/nmtools.hpp\"\n",
    "\n",
    "namespace nm = nmtools;\n",
    "namespace na = nm::array;\n",
    "namespace view = nm::view;\n",
    "namespace meta = nm::meta;\n",
    "\n",
    "using nm::utils::to_string, nm::None, nm::shape, nm::True, nm::False;\n",
    "using namespace nm::literals;"
   ]
  },
  {
   "cell_type": "code",
   "execution_count": 3,
   "id": "2228ff35",
   "metadata": {},
   "outputs": [],
   "source": [
    "#include <iostream>\n",
    "#include <array>\n",
    "#include <tuple>\n",
    "\n",
    "using std::array, std::tuple;\n",
    "\n",
    "#define PRINT_STR(x) \\\n",
    "std::cout << #x << \":\\n\" \\\n",
    "    << x \\\n",
    "    << std::endl;\n",
    "\n",
    "#define DESC(x) std::cout << x << std::endl;\n",
    "#define PRINT(x) \\\n",
    "std::cout << #x << \":\\n\" \\\n",
    "    << nm::utils::to_string(x) \\\n",
    "    << std::endl;"
   ]
  },
  {
   "cell_type": "code",
   "execution_count": 4,
   "id": "60d456d5",
   "metadata": {},
   "outputs": [],
   "source": [
    "#if __has_include(<boost/type_index.hpp>)\n",
    "    #include <boost/type_index.hpp>\n",
    "    #define NMTOOLS_TESTING_HAS_TYPE_INDEX\n",
    "#endif\n",
    "\n",
    "#ifdef NMTOOLS_TESTING_HAS_TYPE_INDEX\n",
    "#define NMTOOLS_GET_TYPENAME(type) \\\n",
    "boost::typeindex::type_id<type>().pretty_name()\n",
    "#else\n",
    "#define NMTOOLS_GET_TYPENAME(type) \\\n",
    "typeid(type).name()\n",
    "#endif"
   ]
  },
  {
   "cell_type": "markdown",
   "id": "59c4c27e",
   "metadata": {},
   "source": [
    "prepare some data for demo"
   ]
  },
  {
   "cell_type": "code",
   "execution_count": 5,
   "id": "d17c64ef",
   "metadata": {},
   "outputs": [
    {
     "name": "stdout",
     "output_type": "stream",
     "text": [
      "a:\n",
      "[\t0.000000,\t1.000000,\t2.000000,\t3.000000,\t4.000000,\t5.000000,\t6.000000,\t7.000000,\t8.000000,\t9.000000,\t10.000000,\t11.000000]\n",
      "b:\n",
      "[[[\t0.000000,\t1.000000],\n",
      "[\t2.000000,\t3.000000],\n",
      "[\t4.000000,\t5.000000]],\n",
      "\n",
      "[[\t6.000000,\t7.000000],\n",
      "[\t8.000000,\t9.000000],\n",
      "[\t10.000000,\t11.000000]]]\n",
      "a_type:\n",
      "N7nmtools5array9ndarray_tISt6vectorIfSaIfEESt5arrayImLm1EENS0_21resolve_stride_type_tENS0_18row_major_offset_tEvEE\n",
      "b_type:\n",
      "St8optionalIN7nmtools5array13fixed_ndarrayIfLm2EJLm3ELm2EEEEE\n"
     ]
    }
   ],
   "source": [
    "auto a = na::arange(12_ct, nm::float32);\n",
    "auto o = meta::as_value_v<na::fixed_ndarray<float,2,3,2>>;\n",
    "auto b = na::reshape(a, std::tuple{2_ct,3_ct,2_ct}, /*context=*/None, /*output=*/o);\n",
    "PRINT(a);\n",
    "PRINT(b);\n",
    "auto a_type = NMTOOLS_GET_TYPENAME(decltype(a));\n",
    "auto b_type = NMTOOLS_GET_TYPENAME(decltype(b));\n",
    "PRINT_STR(a_type);\n",
    "PRINT_STR(b_type);"
   ]
  },
  {
   "cell_type": "markdown",
   "id": "aa7945a3",
   "metadata": {},
   "source": [
    "## Built-in Ufuncs"
   ]
  },
  {
   "cell_type": "markdown",
   "id": "6f44e3f3",
   "metadata": {},
   "source": [
    "#### Broadcasting ufuncs\n",
    "\n",
    "Broadcasting is enable for arity > 1. There is nothing to broadcast to for unary ufuncs. These kind of ufuncs doesn't takes additional arguments other than the operands."
   ]
  },
  {
   "cell_type": "code",
   "execution_count": 6,
   "id": "9a03413e",
   "metadata": {
    "scrolled": true
   },
   "outputs": [
    {
     "name": "stdout",
     "output_type": "stream",
     "text": [
      "b_mul_3:\n",
      "[[[\t0.000000,\t3.000000],\n",
      "[\t6.000000,\t9.000000],\n",
      "[\t12.000000,\t15.000000]],\n",
      "\n",
      "[[\t18.000000,\t21.000000],\n",
      "[\t24.000000,\t27.000000],\n",
      "[\t30.000000,\t33.000000]]]\n",
      "type:\n",
      "St8optionalIN7nmtools4view11decorator_tINS1_7ufunc_tEJNS1_3fun8multiplyINS0_6none_tES6_S6_vEENS2_INS1_10indexing_tEJNS2_INS1_7alias_tEJNS0_5array13fixed_ndarrayIfLm2EJLm3ELm2EEEENS0_4meta17integral_constantImLm0EEEEEENS1_14broadcast_to_tISt5tupleIJNSE_ImLm2EEENSE_ImLm3EEESJ_EESL_NSA_14hybrid_ndarrayIhLm3ELm1EEENSE_ImLm12EEEEEEEENS2_IS8_JNS2_IS9_JiNSE_ImLm1EEEEEENSH_IS6_SL_S6_SO_EEEEEEEEE\n"
     ]
    }
   ],
   "source": [
    "{\n",
    "    auto b_mul_3 = view::multiply(b, 3);\n",
    "    auto type = NMTOOLS_GET_TYPENAME(decltype(b_mul_3));\n",
    "    PRINT(b_mul_3);\n",
    "    PRINT_STR(type);\n",
    "}"
   ]
  },
  {
   "cell_type": "code",
   "execution_count": 7,
   "id": "9c84dc05",
   "metadata": {},
   "outputs": [
    {
     "name": "stdout",
     "output_type": "stream",
     "text": [
      "exp:\n",
      "[[[\t1.000000,\t2.718282],\n",
      "[\t7.389056,\t20.085537],\n",
      "[\t54.598148,\t148.413162]],\n",
      "\n",
      "[[\t403.428802,\t1096.633179],\n",
      "[\t2980.958008,\t8103.083984],\n",
      "[\t22026.464844,\t59874.140625]]]\n",
      "type:\n",
      "St8optionalIN7nmtools4view11decorator_tINS1_7ufunc_tEJNS1_3fun3expENS0_5array13fixed_ndarrayIfLm2EJLm3ELm2EEEEEEEE\n"
     ]
    }
   ],
   "source": [
    "{\n",
    "    auto exp = view::exp(b);\n",
    "    auto type = NMTOOLS_GET_TYPENAME(decltype(exp));\n",
    "    PRINT(exp);\n",
    "    PRINT_STR(type);\n",
    "}"
   ]
  },
  {
   "cell_type": "markdown",
   "id": "16048750",
   "metadata": {},
   "source": [
    "Example of ufunc with arity of 3:"
   ]
  },
  {
   "cell_type": "code",
   "execution_count": 8,
   "id": "5626ba90",
   "metadata": {},
   "outputs": [
    {
     "name": "stdout",
     "output_type": "stream",
     "text": [
      "clipped:\n",
      "[[[\t3.000000,\t32765.000000],\n",
      "[\t3.000000,\t0.000000],\n",
      "[\t-15660378474151936.000000,\t0.000000]],\n",
      "\n",
      "[[\t-15660120776114176.000000,\t0.000000],\n",
      "[\t-437180493201408.000000,\t0.000000],\n",
      "[\t-15660189495590912.000000,\t0.000000]]]\n",
      "type:\n",
      "St8optionalIN7nmtools4view11decorator_tINS1_7where_tEJNS2_INS1_10indexing_tEJNS2_INS1_7ufunc_tEJNS1_3fun7greaterENS2_IS4_JNS2_IS3_JNS2_IS4_JNS2_IS5_JNS6_4lessENS2_IS4_JNS2_INS1_7alias_tEJNS0_5array13fixed_ndarrayIfLm2EJLm3ELm2EEEENS0_4meta17integral_constantImLm0EEEEEENS1_14broadcast_to_tISt5tupleIJNSE_ImLm2EEENSE_ImLm3EEESJ_EESL_NSA_14hybrid_ndarrayIhLm3ELm1EEENSE_ImLm12EEEEEEEENS2_IS4_JNS2_IS9_JiNSE_ImLm1EEEEEENSH_INS0_6none_tESL_ST_SO_EEEEEEEESP_EEENS2_IS4_JNS2_IS9_JiNSE_ImLm355EEEEEESU_EEENS2_IS4_JNS2_IS9_JSC_NSE_ImLm356EEEEEESP_EEEEEESP_EEENS2_IS4_JNS2_IS9_JSt5arrayIiLm2EENSE_ImLm644EEEEEENSH_ISI_IJSJ_EESL_SN_SO_EEEEEEEESP_EEES1C_S15_EEEE\n"
     ]
    }
   ],
   "source": [
    "{\n",
    "    auto min = 3;\n",
    "    auto max = array{5,1};\n",
    "    auto clipped = view::clip(b,min,max);\n",
    "    auto type = NMTOOLS_GET_TYPENAME(decltype(clipped));\n",
    "    PRINT(clipped);\n",
    "    PRINT_STR(type);\n",
    "}"
   ]
  },
  {
   "cell_type": "markdown",
   "id": "5bbbde6b",
   "metadata": {},
   "source": [
    "#### Reduce ufuncs\n",
    "\n",
    "Reduce ufuncs only takes single operands, but with additional arguments such as axis and keepdims."
   ]
  },
  {
   "cell_type": "code",
   "execution_count": 9,
   "id": "022cc9f6",
   "metadata": {},
   "outputs": [
    {
     "name": "stdout",
     "output_type": "stream",
     "text": [
      "flat_sum:\n",
      "66.000000\n",
      "axis2_sum:\n",
      "[[\t1.000000,\t5.000000,\t9.000000],\n",
      "[\t13.000000,\t17.000000,\t21.000000]]\n"
     ]
    }
   ],
   "source": [
    "{\n",
    "    auto flat_sum = view::sum(b, /*axis=*/None);\n",
    "    auto axis2_sum = view::sum(b, 2); \n",
    "    PRINT(flat_sum);\n",
    "    PRINT(axis2_sum);\n",
    "}"
   ]
  },
  {
   "cell_type": "code",
   "execution_count": 10,
   "id": "7bcb4f58",
   "metadata": {
    "scrolled": true
   },
   "outputs": [
    {
     "name": "stdout",
     "output_type": "stream",
     "text": [
      "flat_mean:\n",
      "5.500000\n",
      "flat_mean_keepdims:\n",
      "[[[\t5.500000]]]\n",
      "axis0_mean:\n",
      "[[\t3.000000,\t4.000000],\n",
      "[\t5.000000,\t6.000000],\n",
      "[\t7.000000,\t8.000000]]\n",
      "axis1_mean:\n",
      "[[\t2.000000,\t3.000000],\n",
      "[\t8.000000,\t9.000000]]\n",
      "axis12_mean:\n",
      "[\t2.500000,\t8.500000]\n"
     ]
    }
   ],
   "source": [
    "{\n",
    "    auto flat_mean = view::mean(b, None);\n",
    "    auto flat_mean_keepdims = view::mean(b, None, /*dtype=*/None, /*keepdims=*/True);\n",
    "    auto axis0_mean = view::mean(b, 0);\n",
    "    auto axis1_mean = view::mean(b, 1);\n",
    "    auto axis12_mean = view::mean(b, std::array{1,2});\n",
    "    PRINT(flat_mean);\n",
    "    PRINT(flat_mean_keepdims);\n",
    "    PRINT(axis0_mean);\n",
    "    PRINT(axis1_mean);\n",
    "    PRINT(axis12_mean);\n",
    "}"
   ]
  },
  {
   "cell_type": "markdown",
   "id": "1c8cd0bb",
   "metadata": {},
   "source": [
    "#### Accumulate ufuncs\n",
    "\n",
    "Similar to reduce ufunc, accumulate ufuncs takes axis arguments. But unlike reduce ufuncs, accumulate ufuncs don't take keepdims arguments, the resulting arguments will always be the same."
   ]
  },
  {
   "cell_type": "code",
   "execution_count": 11,
   "id": "61ac1b94",
   "metadata": {},
   "outputs": [
    {
     "name": "stdout",
     "output_type": "stream",
     "text": [
      "accumulated:\n",
      "[[[\t0.000000,\t1.000000],\n",
      "[\t2.000000,\t4.000000],\n",
      "[\t6.000000,\t9.000000]],\n",
      "\n",
      "[[\t6.000000,\t7.000000],\n",
      "[\t14.000000,\t16.000000],\n",
      "[\t24.000000,\t27.000000]]]\n"
     ]
    }
   ],
   "source": [
    "{\n",
    "    auto accumulated = view::accumulate_add(b, /*axis=*/1, None);\n",
    "    PRINT(accumulated);\n",
    "}"
   ]
  },
  {
   "cell_type": "markdown",
   "id": "8be056a3",
   "metadata": {},
   "source": [
    "nmtools doesn't have generalized ufuncs, some function are implemented with built-in view."
   ]
  },
  {
   "cell_type": "code",
   "execution_count": 12,
   "id": "3591b491",
   "metadata": {},
   "outputs": [
    {
     "name": "stdout",
     "output_type": "stream",
     "text": [
      "c:\n",
      "[[\t0.000000,\t1.000000,\t2.000000,\t3.000000,\t4.000000,\t5.000000],\n",
      "[\t6.000000,\t7.000000,\t8.000000,\t9.000000,\t10.000000,\t11.000000]]\n",
      "type:\n",
      "St8optionalIN7nmtools4view11decorator_tINS1_8matmul_tEJNS0_5array13fixed_ndarrayIfLm2EJLm3ELm2EEEENS4_9ndarray_tISt5arrayIfLm12EESt5tupleIJNS0_4meta17integral_constantImLm2EEENSC_ImLm6EEEEENS4_21resolve_stride_type_tENS4_18row_major_offset_tEvEEEEEE\n"
     ]
    }
   ],
   "source": [
    "{\n",
    "    auto c = na::reshape(\n",
    "        na::arange(12_ct, nm::float32),\n",
    "        tuple{2_ct,6_ct}\n",
    "    );\n",
    "    auto matmul = view::matmul(b,c);\n",
    "    auto type = NMTOOLS_GET_TYPENAME(decltype(matmul));\n",
    "    PRINT(c);\n",
    "    // PRINT(matmul);\n",
    "    PRINT_STR(type);\n",
    "}"
   ]
  },
  {
   "cell_type": "markdown",
   "id": "3ac67334",
   "metadata": {},
   "source": [
    "## Custom Ufuncs"
   ]
  },
  {
   "cell_type": "markdown",
   "id": "1e6639fa",
   "metadata": {},
   "source": [
    "You can create custom operation and plug it to nmtools ufunc:"
   ]
  },
  {
   "cell_type": "code",
   "execution_count": 13,
   "id": "e9c3a3b4",
   "metadata": {},
   "outputs": [],
   "source": [
    "struct my_relu6\n",
    "{\n",
    "    template <typename T>\n",
    "    auto operator()(const T& t) const\n",
    "    {\n",
    "        return static_cast<T>(t > 0 ? (t < 6 ? t : 6) : 0);\n",
    "    }\n",
    "};"
   ]
  },
  {
   "cell_type": "code",
   "execution_count": 14,
   "id": "72ffbf02",
   "metadata": {
    "scrolled": true
   },
   "outputs": [
    {
     "name": "stdout",
     "output_type": "stream",
     "text": [
      "relu_out:\n",
      "[[[\t0.000000,\t1.000000],\n",
      "[\t2.000000,\t3.000000],\n",
      "[\t4.000000,\t5.000000]],\n",
      "\n",
      "[[\t6.000000,\t6.000000],\n",
      "[\t6.000000,\t6.000000],\n",
      "[\t6.000000,\t6.000000]]]\n",
      "relu_out_type:\n",
      "St8optionalIN7nmtools4view11decorator_tINS1_7ufunc_tEJN12__cling_N5128my_relu6ENS0_5array13fixed_ndarrayIfLm2EJLm3ELm2EEEEEEEE\n"
     ]
    }
   ],
   "source": [
    "{\n",
    "    auto mrelu = my_relu6{};\n",
    "    auto relu_out = view::ufunc(mrelu, b);\n",
    "    auto relu_out_type = NMTOOLS_GET_TYPENAME(decltype(relu_out));\n",
    "    PRINT(relu_out);\n",
    "    PRINT_STR(relu_out_type);\n",
    "}"
   ]
  },
  {
   "cell_type": "markdown",
   "id": "8f92b7a1",
   "metadata": {},
   "source": [
    "For operation with arity > 1, broadcasting will be applied:"
   ]
  },
  {
   "cell_type": "code",
   "execution_count": 15,
   "id": "57db3a9e",
   "metadata": {},
   "outputs": [],
   "source": [
    "struct a_plus_b_minus_1\n",
    "{\n",
    "    template <typename T, typename U>\n",
    "    auto operator()(const T& t, const U& u) const\n",
    "    {\n",
    "        return static_cast<T>(t + u - 1);\n",
    "    }\n",
    "};"
   ]
  },
  {
   "cell_type": "code",
   "execution_count": 16,
   "id": "77eddbcf",
   "metadata": {},
   "outputs": [
    {
     "name": "stdout",
     "output_type": "stream",
     "text": [
      "res:\n",
      "[[[\t8.000000,\t9.000000],\n",
      "[\t10.000000,\t11.000000],\n",
      "[\t12.000000,\t13.000000]],\n",
      "\n",
      "[[\t14.000000,\t15.000000],\n",
      "[\t16.000000,\t17.000000],\n",
      "[\t18.000000,\t19.000000]]]\n"
     ]
    }
   ],
   "source": [
    "{\n",
    "    auto op = a_plus_b_minus_1{};\n",
    "    auto res = view::ufunc(op, b, 9);\n",
    "    PRINT(res);\n",
    "}"
   ]
  },
  {
   "cell_type": "markdown",
   "id": "bdaaea96",
   "metadata": {},
   "source": [
    "Reduce ufunc need op with arity exacly 2:"
   ]
  },
  {
   "cell_type": "code",
   "execution_count": 17,
   "id": "9fc7df1a",
   "metadata": {},
   "outputs": [
    {
     "name": "stdout",
     "output_type": "stream",
     "text": [
      "res:\n",
      "[[\t3.000000,\t6.000000],\n",
      "[\t21.000000,\t24.000000]]\n"
     ]
    }
   ],
   "source": [
    "{\n",
    "    auto op = a_plus_b_minus_1{};\n",
    "    auto res = view::reduce(op, b, /*axis=*/1, /*initial=*/None, /*keepdims=*/False);\n",
    "    PRINT(res);\n",
    "}"
   ]
  },
  {
   "cell_type": "markdown",
   "id": "b3d2e2db",
   "metadata": {},
   "source": [
    "Accumulate ufunc also need op with arity exactly 2, but without keepdims:"
   ]
  },
  {
   "cell_type": "code",
   "execution_count": 18,
   "id": "f37e3b80",
   "metadata": {},
   "outputs": [
    {
     "name": "stdout",
     "output_type": "stream",
     "text": [
      "res:\n",
      "[[[\t0.000000,\t1.000000],\n",
      "[\t1.000000,\t3.000000],\n",
      "[\t4.000000,\t7.000000]],\n",
      "\n",
      "[[\t6.000000,\t7.000000],\n",
      "[\t13.000000,\t15.000000],\n",
      "[\t22.000000,\t25.000000]]]\n"
     ]
    }
   ],
   "source": [
    "{\n",
    "    auto op = a_plus_b_minus_1{};\n",
    "    auto res = view::accumulate(op, b, /*axis=*/1);\n",
    "    PRINT(res);\n",
    "}"
   ]
  },
  {
   "cell_type": "markdown",
   "id": "5be255cc",
   "metadata": {},
   "source": [
    "## Lazy Eval vs. Eager Eval\n",
    "\n",
    "The examples above only show lazy evaluation so far. In nmtools, lazy evaluation functions are under the namespace `nmtools::view`, while eager eval functions are under the namespace `nmtools::array`.\n",
    "\n",
    "Lazy eval view perform the computation on demand on `operator()`. When the function called, the returned object is some kind of a proxy to the underlying array. The consequence is when the underlying array is changed, the \"result\" of the view also changed. Such changes don't happen for eager eval functions. Under the hood, the eager eval functions are implemented by creating a view and then calls `eval`."
   ]
  },
  {
   "cell_type": "code",
   "execution_count": 19,
   "id": "cc0bcb9f",
   "metadata": {},
   "outputs": [
    {
     "name": "stdout",
     "output_type": "stream",
     "text": [
      "lazy_a_plus_b:\n",
      "[[[\t3,\t4],\n",
      "[\t5,\t6],\n",
      "[\t7,\t8]],\n",
      "\n",
      "[[\t9,\t10],\n",
      "[\t11,\t12],\n",
      "[\t13,\t14]]]\n",
      "eager_a_plus_b:\n",
      "[[[\t3,\t4],\n",
      "[\t5,\t6],\n",
      "[\t7,\t8]],\n",
      "\n",
      "[[\t9,\t10],\n",
      "[\t11,\t12],\n",
      "[\t13,\t14]]]\n",
      "lazy_reduced_a:\n",
      "[[\t6,\t9],\n",
      "[\t24,\t27]]\n",
      "eager_reduced_a:\n",
      "[[\t6,\t9],\n",
      "[\t24,\t27]]\n",
      "\n",
      "\n",
      "modyfing the underlying array:\n",
      "lazy_a_plus_b:\n",
      "[[[\t3,\t4],\n",
      "[\t102,\t6],\n",
      "[\t7,\t8]],\n",
      "\n",
      "[[\t9,\t10],\n",
      "[\t11,\t12],\n",
      "[\t13,\t14]]]\n",
      "eager_a_plus_b:\n",
      "[[[\t3,\t4],\n",
      "[\t5,\t6],\n",
      "[\t7,\t8]],\n",
      "\n",
      "[[\t9,\t10],\n",
      "[\t11,\t12],\n",
      "[\t13,\t14]]]\n",
      "lazy_reduced_a:\n",
      "[[\t103,\t9],\n",
      "[\t24,\t27]]\n",
      "eager_reduced_a:\n",
      "[[\t6,\t9],\n",
      "[\t24,\t27]]\n"
     ]
    }
   ],
   "source": [
    "{\n",
    "    int a[2][3][2] = {\n",
    "        {\n",
    "            {0,1},\n",
    "            {2,3},\n",
    "            {4,5},\n",
    "        },\n",
    "        {\n",
    "            { 6, 7},\n",
    "            { 8, 9},\n",
    "            {10,11},\n",
    "        }\n",
    "    };\n",
    "    int b = 3;\n",
    "    auto lazy_a_plus_b = view::add(a,b);\n",
    "    auto eager_a_plus_b = na::add(a,b);\n",
    "    auto lazy_reduced_a = view::reduce_add(a,/*axis=*/1);\n",
    "    auto eager_reduced_a = na::add.reduce(a,/*axis=*/1);\n",
    "    PRINT(lazy_a_plus_b);\n",
    "    PRINT(eager_a_plus_b);\n",
    "    PRINT(lazy_reduced_a);\n",
    "    PRINT(eager_reduced_a);\n",
    "    \n",
    "    \n",
    "    DESC(\"\\n\\nmodyfing the underlying array:\");\n",
    "    nm::at(a,0,1,0) = 99;\n",
    "    PRINT(lazy_a_plus_b);\n",
    "    PRINT(eager_a_plus_b);\n",
    "    PRINT(lazy_reduced_a);\n",
    "    PRINT(eager_reduced_a);\n",
    "}"
   ]
  },
  {
   "cell_type": "markdown",
   "id": "b988006c",
   "metadata": {},
   "source": [
    "The same also applies to custom ufuncs:"
   ]
  },
  {
   "cell_type": "code",
   "execution_count": 20,
   "id": "9fff8358",
   "metadata": {},
   "outputs": [
    {
     "name": "stdout",
     "output_type": "stream",
     "text": [
      "lazy_res:\n",
      "[[[\t2,\t3],\n",
      "[\t4,\t5],\n",
      "[\t6,\t7]],\n",
      "\n",
      "[[\t8,\t9],\n",
      "[\t10,\t11],\n",
      "[\t12,\t13]]]\n",
      "eager_res:\n",
      "[[[\t2,\t3],\n",
      "[\t4,\t5],\n",
      "[\t6,\t7]],\n",
      "\n",
      "[[\t8,\t9],\n",
      "[\t10,\t11],\n",
      "[\t12,\t13]]]\n",
      "\n",
      "\n",
      "modyfing the underlying array:\n",
      "lazy_res:\n",
      "[[[\t2,\t3],\n",
      "[\t101,\t5],\n",
      "[\t6,\t7]],\n",
      "\n",
      "[[\t8,\t9],\n",
      "[\t10,\t11],\n",
      "[\t12,\t13]]]\n",
      "eager_res:\n",
      "[[[\t2,\t3],\n",
      "[\t4,\t5],\n",
      "[\t6,\t7]],\n",
      "\n",
      "[[\t8,\t9],\n",
      "[\t10,\t11],\n",
      "[\t12,\t13]]]\n"
     ]
    }
   ],
   "source": [
    "{\n",
    "    int a[2][3][2] = {\n",
    "        {\n",
    "            {0,1},\n",
    "            {2,3},\n",
    "            {4,5},\n",
    "        },\n",
    "        {\n",
    "            { 6, 7},\n",
    "            { 8, 9},\n",
    "            {10,11},\n",
    "        }\n",
    "    };\n",
    "    int b = 3;\n",
    "    auto eager = [](const auto& a, const auto& b){\n",
    "        auto op = a_plus_b_minus_1{};\n",
    "        auto v = view::ufunc(op, a, b);\n",
    "        auto res = na::eval(v);\n",
    "        return res;\n",
    "    };\n",
    "    // custom op\n",
    "    auto op = a_plus_b_minus_1{};\n",
    "    auto lazy_res = view::ufunc(op, a, b);\n",
    "    auto eager_res = eager(a,b);\n",
    "    \n",
    "    PRINT(lazy_res);\n",
    "    PRINT(eager_res);\n",
    "    \n",
    "    DESC(\"\\n\\nmodyfing the underlying array:\");\n",
    "    nm::at(a,0,1,0) = 99;\n",
    "    \n",
    "    PRINT(lazy_res);\n",
    "    PRINT(eager_res);\n",
    "}"
   ]
  }
 ],
 "metadata": {
  "kernelspec": {
   "display_name": "C++17",
   "language": "C++17",
   "name": "xcpp17"
  },
  "language_info": {
   "codemirror_mode": "text/x-c++src",
   "file_extension": ".cpp",
   "mimetype": "text/x-c++src",
   "name": "c++",
   "version": "17"
  }
 },
 "nbformat": 4,
 "nbformat_minor": 5
}
