{
 "cells": [
  {
   "cell_type": "markdown",
   "id": "9b0c4b28",
   "metadata": {},
   "source": [
    "# Array Basic\n",
    "\n",
    "This tutorial will shows you basic operation on ndarray, such as:\n",
    "- [printing](#Printing-an-Array)\n",
    "- [element access](#Generic-Element-Access)\n",
    "- [iterating an array](#Iterating-an-Array)\n",
    "- [slicing](#Slicing-an-Array)\n",
    "\n",
    "This notebook uses `xeus-cling` kernel to be able to use C++17 on notebook. For more info about `xeus-cling` please refer to https://github.com/jupyter-xeus/xeus-cling.\n",
    "\n",
    "`nmtools` is an header-only library, to use it you only need to include necessary header. To add include path in `xeus-cling` simply add `pragma` for `cling`, for example:\n",
    "```C++\n",
    "#pragma cling add_include_path(\"/home/fahri/numeric_tools/include\")\n",
    "```"
   ]
  },
  {
   "cell_type": "code",
   "execution_count": 1,
   "id": "81a4b3b7",
   "metadata": {},
   "outputs": [],
   "source": [
    "#pragma cling add_include_path(\"/home/fahri/numeric_tools/include\")"
   ]
  },
  {
   "cell_type": "code",
   "execution_count": 2,
   "id": "40469a18",
   "metadata": {},
   "outputs": [],
   "source": [
    "#include \"nmtools/array/ndarray.hpp\"\n",
    "#include \"nmtools/array/view/slice.hpp\"\n",
    "#include \"nmtools/array/index/ndenumerate.hpp\"\n",
    "#include \"nmtools/utils/to_string.hpp\"\n",
    "\n",
    "#include <iostream>\n",
    "#include <array>\n",
    "#include <vector>"
   ]
  },
  {
   "cell_type": "code",
   "execution_count": 3,
   "id": "834134b5",
   "metadata": {},
   "outputs": [],
   "source": [
    "namespace nm = nmtools;\n",
    "namespace na = nm::array;\n",
    "using nm::utils::to_string;\n",
    "using nm::index::ndindex;\n",
    "using nm::view::slice;\n",
    "using nm::shape;\n",
    "using nm::None;\n",
    "using std::tuple;"
   ]
  },
  {
   "cell_type": "markdown",
   "id": "754478eb",
   "metadata": {},
   "source": [
    "## Printing an Array\n",
    "\n",
    "We can print a multidimensional array by simply converting the array to string and then use `std::cout`. `nmtools` provides utility function `nmtools::utils::to_string` to do such job, illustrated by the following examples:"
   ]
  },
  {
   "cell_type": "code",
   "execution_count": 4,
   "id": "50107c11",
   "metadata": {},
   "outputs": [
    {
     "name": "stdout",
     "output_type": "stream",
     "text": [
      "[[[\t1\t2],\n",
      "[\t3\t4],\n",
      "[\t5\t6]],\n",
      "\n",
      "[[\t7\t8],\n",
      "[\t9\t10],\n",
      "[\t11\t12]]]\n",
      "shape: [\t2\t3\t2]\n"
     ]
    }
   ],
   "source": [
    "{\n",
    "    int a[2][3][2] = {\n",
    "        {\n",
    "            {1,2},\n",
    "            {3,4},\n",
    "            {5,6},\n",
    "        },\n",
    "        {\n",
    "            { 7, 8},\n",
    "            { 9,10},\n",
    "            {11,12},\n",
    "        },\n",
    "    };\n",
    "    std::cout << to_string(a) << std::endl;\n",
    "    std::cout << \"shape: \" << to_string(shape(a)) << std::endl;\n",
    "}"
   ]
  },
  {
   "cell_type": "code",
   "execution_count": 5,
   "id": "674395fe",
   "metadata": {},
   "outputs": [
    {
     "name": "stdout",
     "output_type": "stream",
     "text": [
      "[[[\t1\t2],\n",
      "[\t3\t4],\n",
      "[\t5\t6]],\n",
      "\n",
      "[[\t7\t8],\n",
      "[\t9\t10],\n",
      "[\t11\t12]]]\n",
      "shape: [\t2\t3\t2]\n"
     ]
    }
   ],
   "source": [
    "{\n",
    "    auto a = na::fixed_ndarray{{\n",
    "        {\n",
    "            {1,2},\n",
    "            {3,4},\n",
    "            {5,6},\n",
    "        },\n",
    "        {\n",
    "            { 7, 8},\n",
    "            { 9,10},\n",
    "            {11,12},\n",
    "        },\n",
    "    }};\n",
    "    std::cout << to_string(a) << std::endl;\n",
    "    std::cout << \"shape: \" << to_string(shape(a)) << std::endl;\n",
    "}"
   ]
  },
  {
   "cell_type": "code",
   "execution_count": 6,
   "id": "2e50b382",
   "metadata": {
    "scrolled": true
   },
   "outputs": [
    {
     "name": "stdout",
     "output_type": "stream",
     "text": [
      "[[[\t1\t2],\n",
      "[\t3\t4],\n",
      "[\t5\t6]],\n",
      "\n",
      "[[\t7\t8],\n",
      "[\t9\t10],\n",
      "[\t11\t12]]]\n",
      "shape: [\t2\t3\t2]\n"
     ]
    }
   ],
   "source": [
    "{\n",
    "    auto a = na::dynamic_ndarray({\n",
    "        {\n",
    "            {1,2},\n",
    "            {3,4},\n",
    "            {5,6},\n",
    "        },\n",
    "        {\n",
    "            { 7, 8},\n",
    "            { 9,10},\n",
    "            {11,12},\n",
    "        },\n",
    "    });\n",
    "    std::cout << to_string(a) << std::endl;\n",
    "    std::cout << \"shape: \" << to_string(shape(a)) << std::endl;\n",
    "}"
   ]
  },
  {
   "cell_type": "markdown",
   "id": "61aea046",
   "metadata": {},
   "source": [
    "## Generic Element Access\n",
    "\n",
    "`nmtools` doesn't assume single ndarray type, hence we provide generic element accessor using `nmtools::at` that can be used in mutable and immutable functions."
   ]
  },
  {
   "cell_type": "code",
   "execution_count": 7,
   "id": "e528365c",
   "metadata": {},
   "outputs": [
    {
     "name": "stdout",
     "output_type": "stream",
     "text": [
      "1\n",
      "1\n",
      "1\n",
      "1\n"
     ]
    }
   ],
   "source": [
    "{\n",
    "    int a[1][2][1] = {{{1},{2}}};\n",
    "    int b[2][2] = {{0,1},{2,3}};\n",
    "    auto c = na::fixed_ndarray{{3,2,1}};\n",
    "    auto d = na::dynamic_ndarray<int>();\n",
    "    d.resize(1,1,2,1);\n",
    "    d(0,0,1,0) = 1;\n",
    "    std::cout << nm::at(a,0,0,0) << std::endl;\n",
    "    std::cout << nm::at(b,0,1) << std::endl;\n",
    "    std::cout << nm::at(c,2) << std::endl;\n",
    "    std::cout << nm::at(d,0,0,1,0) << std::endl;\n",
    "}"
   ]
  },
  {
   "cell_type": "markdown",
   "id": "a342e570",
   "metadata": {},
   "source": [
    "## Iterating an Array\n",
    "\n",
    "`nmtools` doesn't limit the number of dimension for any ndarray. This can be problematic when we want to iterate the array without having to prepare nested loop. Instead of using nested loop, we can just iterate using single array using `nmtools::index::ndindex`, which takes the shape of an array and generate \"indices pack\" for corresponding array to be used in single loop. Then to read element of an array given packed indices, we can use `nmtools::apply_at`.\n",
    "\n",
    "One can also use `nmtools::index::ndenumerate` to get generated index with its corresponding elements."
   ]
  },
  {
   "cell_type": "code",
   "execution_count": 8,
   "id": "34887740",
   "metadata": {},
   "outputs": [
    {
     "name": "stdout",
     "output_type": "stream",
     "text": [
      "before:\n",
      "[[[\t0.000000\t0.000000],\n",
      "[\t0.000000\t0.000000],\n",
      "[\t0.000000\t0.000000]],\n",
      "\n",
      "[[\t0.000000\t0.000000],\n",
      "[\t0.000000\t0.000000],\n",
      "[\t0.000000\t0.000000]]]\n",
      "after:\n",
      "[[[\t0.100000\t1.200000],\n",
      "[\t2.300000\t3.400000],\n",
      "[\t4.500000\t5.600000]],\n",
      "\n",
      "[[\t6.700000\t7.800000],\n",
      "[\t8.900000\t10.000000],\n",
      "[\t11.100000\t12.200000]]]\n"
     ]
    }
   ],
   "source": [
    "{\n",
    "    auto a = na::dynamic_ndarray<float>();\n",
    "    a.resize(2,3,2);\n",
    "    std::cout << \"before:\\n\" << to_string(a) << std::endl;\n",
    "    \n",
    "    auto shape_ = a.shape();\n",
    "    auto indices = ndindex(shape_);\n",
    "    // just fill with index\n",
    "    for (size_t i=0; i<indices.size(); i++) {\n",
    "        auto idx = indices[i];\n",
    "        nm::apply_at(a,idx) = i + 0.1*(i+1);\n",
    "    }\n",
    "    std::cout << \"after:\\n\" << to_string(a) << std::endl;\n",
    "}"
   ]
  },
  {
   "cell_type": "code",
   "execution_count": 9,
   "id": "f087d041",
   "metadata": {},
   "outputs": [
    {
     "name": "stdout",
     "output_type": "stream",
     "text": [
      "before:\n",
      "[[[[[[[\t0.000000\t0.000000]]],\n",
      "\n",
      "\n",
      "[[[\t0.000000\t0.000000]]],\n",
      "\n",
      "\n",
      "[[[\t0.000000\t0.000000]]]],\n",
      "\n",
      "\n",
      "\n",
      "[[[[\t0.000000\t0.000000]]],\n",
      "\n",
      "\n",
      "[[[\t0.000000\t0.000000]]],\n",
      "\n",
      "\n",
      "[[[\t0.000000\t0.000000]]]]]]]\n",
      "after:\n",
      "[[[[[[[\t0.100000\t1.200000]]],\n",
      "\n",
      "\n",
      "[[[\t2.300000\t3.400000]]],\n",
      "\n",
      "\n",
      "[[[\t4.500000\t5.600000]]]],\n",
      "\n",
      "\n",
      "\n",
      "[[[[\t6.700000\t7.800000]]],\n",
      "\n",
      "\n",
      "[[[\t8.900000\t10.000000]]],\n",
      "\n",
      "\n",
      "[[[\t11.100000\t12.200000]]]]]]]\n"
     ]
    }
   ],
   "source": [
    "{\n",
    "    double a[1][1][2][3][1][1][2] = {};\n",
    "    std::cout << \"before:\\n\" << to_string(a) << std::endl;\n",
    "    \n",
    "    auto indices = ndindex(shape(a));\n",
    "    // just fill with index\n",
    "    for (size_t i=0; i<indices.size(); i++) {\n",
    "        auto idx = indices[i];\n",
    "        nm::apply_at(a,idx) = i + 0.1*(i+1);\n",
    "    }\n",
    "    std::cout << \"after:\\n\" << to_string(a) << std::endl;\n",
    "}"
   ]
  },
  {
   "cell_type": "code",
   "execution_count": 10,
   "id": "aa91ee34",
   "metadata": {},
   "outputs": [
    {
     "name": "stdout",
     "output_type": "stream",
     "text": [
      "index\t\t\t     value\n",
      "[\t0\t0\t0] : 0.000000\n",
      "[\t0\t0\t1] : 1.000000\n",
      "[\t0\t1\t0] : 2.000000\n",
      "[\t0\t1\t1] : 3.000000\n",
      "[\t0\t2\t0] : 4.000000\n",
      "[\t0\t2\t1] : 5.000000\n",
      "[\t1\t0\t0] : 6.000000\n",
      "[\t1\t0\t1] : 7.000000\n",
      "[\t1\t1\t0] : 8.000000\n",
      "[\t1\t1\t1] : 9.000000\n",
      "[\t1\t2\t0] : 10.000000\n",
      "[\t1\t2\t1] : 11.000000\n",
      "using range for:\n",
      "[\t0\t0\t0] : 0.000000\n",
      "[\t0\t0\t1] : 1.000000\n",
      "[\t0\t1\t0] : 2.000000\n",
      "[\t0\t1\t1] : 3.000000\n",
      "[\t0\t2\t0] : 77.000000\n",
      "[\t0\t2\t1] : 5.000000\n",
      "[\t1\t0\t0] : 6.000000\n",
      "[\t1\t0\t1] : 7.000000\n",
      "[\t1\t1\t0] : 8.000000\n",
      "[\t1\t1\t1] : 9.000000\n",
      "[\t1\t2\t0] : 10.000000\n",
      "[\t1\t2\t1] : 11.000000\n"
     ]
    }
   ],
   "source": [
    "{\n",
    "    using nm::index::ndenumerate;\n",
    "    auto a = na::dynamic_ndarray<float>();\n",
    "    a.resize(2,3,2);\n",
    "    // assignment\n",
    "    a = {\n",
    "        {\n",
    "            {0,1},\n",
    "            {2,3},\n",
    "            {4,5},\n",
    "        },\n",
    "        {\n",
    "            { 6, 7},\n",
    "            { 8, 9},\n",
    "            {10,11},\n",
    "        }\n",
    "    };\n",
    "    \n",
    "    auto pack = ndenumerate(a);\n",
    "    std::cout << \"index\\t\\t\\t     value\" << std::endl;\n",
    "    for (size_t i=0; i<pack.size(); i++) {\n",
    "        auto [index, value] = pack[i];\n",
    "        std::cout << to_string(index) << \" : \" << to_string(value) << std::endl;\n",
    "    }\n",
    "\n",
    "    // also note that \"pack\" takes reference to a, changes to a reflected to pack\n",
    "    a(0,2,0) = 77;\n",
    "\n",
    "    std::cout << \"using range for:\" << std::endl;\n",
    "    for (auto [index, value] : pack)\n",
    "        std::cout << to_string(index) << \" : \" << to_string(value) << std::endl;\n",
    "}"
   ]
  },
  {
   "cell_type": "markdown",
   "id": "a881608c",
   "metadata": {},
   "source": [
    "### Slicing an Array\n",
    "\n",
    "Other basic operation on array is slicing. `nmtools` provides python/numpy-inspired slicing function `slice`. The function accept a source array and variadic slice parameter. There is also special constant `nmtools::None` that simulates python's `None` to achieve similar slicing effects.\n",
    "\n",
    "The following examples show you how to use start, stop, and step for each axis, using `None` constant, as well as mixing indexing with slicing. Note that currently full indexing using slice is not allowed and slice parameter should take at least start and stop values.\n",
    "\n",
    "```Python\n",
    "# assume a is 2-dimensional\n",
    "sliced = a[:,:]\n",
    "# also note that the expression is equivalent to:\n",
    "sliced = a[None:None,None:None]\n",
    "```\n",
    "is equal to\n",
    "```C++\n",
    "auto slice0 = tuple{None,None};\n",
    "auto slice1 = tuple{None,None};\n",
    "auto sliced = slice(a,slice0,slice1};\n",
    "```"
   ]
  },
  {
   "cell_type": "code",
   "execution_count": 11,
   "id": "36acad8d",
   "metadata": {},
   "outputs": [
    {
     "name": "stdout",
     "output_type": "stream",
     "text": [
      "original:\n",
      "[[\t0\t1\t2],\n",
      "[\t3\t4\t5]]\n",
      "sliced:\n",
      "[[\t2\t1\t0],\n",
      "[\t5\t4\t3]]\n"
     ]
    }
   ],
   "source": [
    "{\n",
    "    int a[2][3] = {\n",
    "        {0,1,2},\n",
    "        {3,4,5},\n",
    "    };\n",
    "    auto slice0 = tuple{/*start=*/None,/*stop=*/None};\n",
    "    auto slice1 = tuple{/*start=*/None,/*stop=*/None,/*step=*/-1};\n",
    "    auto sliced = slice(a,slice0,slice1);\n",
    "    std::cout << \"original:\\n\" << to_string(a) << std::endl;\n",
    "    std::cout << \"sliced:\\n\" << to_string(sliced) << std::endl;\n",
    "}"
   ]
  },
  {
   "cell_type": "code",
   "execution_count": 12,
   "id": "143b9aaf",
   "metadata": {},
   "outputs": [
    {
     "name": "stdout",
     "output_type": "stream",
     "text": [
      "original:\n",
      "[[[\t0\t1],\n",
      "[\t2\t3],\n",
      "[\t4\t5]],\n",
      "\n",
      "[[\t6\t7],\n",
      "[\t8\t9],\n",
      "[\t10\t11]]]\n",
      "sliced:\n",
      "[[[\t7\t6],\n",
      "[\t9\t8]],\n",
      "\n",
      "[[\t1\t0],\n",
      "[\t3\t2]]]\n"
     ]
    }
   ],
   "source": [
    "{\n",
    "    int array[2][3][2] = {\n",
    "        {\n",
    "            {0,1},\n",
    "            {2,3},\n",
    "            {4,5},\n",
    "        },\n",
    "        {\n",
    "            {6,7},\n",
    "            {8,9},\n",
    "            {10,11},\n",
    "        }\n",
    "    };\n",
    "    auto slice0 = tuple{1,None,-1};\n",
    "    auto slice1 = tuple{None,-1};\n",
    "    auto slice2 = tuple{None,None,-1};\n",
    "    auto sliced = slice(array,slice0,slice1,slice2);\n",
    "    std::cout << \"original:\\n\" << to_string(array) << std::endl;\n",
    "    std::cout << \"sliced:\\n\" << to_string(sliced) << std::endl;\n",
    "}"
   ]
  },
  {
   "cell_type": "code",
   "execution_count": 13,
   "id": "d3227b83",
   "metadata": {},
   "outputs": [
    {
     "name": "stdout",
     "output_type": "stream",
     "text": [
      "original:\n",
      "[[[\t0\t1],\n",
      "[\t2\t3],\n",
      "[\t4\t5]],\n",
      "\n",
      "[[\t6\t7],\n",
      "[\t8\t9],\n",
      "[\t10\t11]]]\n",
      "sliced:\n",
      "[[\t9\t8],\n",
      "[\t3\t2]]\n"
     ]
    }
   ],
   "source": [
    "{\n",
    "    int array[2][3][2] = {\n",
    "        {\n",
    "            {0,1},\n",
    "            {2,3},\n",
    "            {4,5},\n",
    "        },\n",
    "        {\n",
    "            {6,7},\n",
    "            {8,9},\n",
    "            {10,11},\n",
    "        }\n",
    "    };\n",
    "    auto slice0 = tuple{1,None,-1};\n",
    "    auto slice1 = 1;\n",
    "    auto slice2 = tuple{None,None,-1};\n",
    "    auto sliced = slice(array,slice0,slice1,slice2);\n",
    "    std::cout << \"original:\\n\" << to_string(array) << std::endl;\n",
    "    std::cout << \"sliced:\\n\" << to_string(sliced) << std::endl;\n",
    "}"
   ]
  }
 ],
 "metadata": {
  "kernelspec": {
   "display_name": "C++17",
   "language": "C++17",
   "name": "xcpp17"
  },
  "language_info": {
   "codemirror_mode": "text/x-c++src",
   "file_extension": ".cpp",
   "mimetype": "text/x-c++src",
   "name": "c++",
   "version": "17"
  }
 },
 "nbformat": 4,
 "nbformat_minor": 5
}
